{
  "nbformat": 4,
  "nbformat_minor": 0,
  "metadata": {
    "colab": {
      "provenance": []
    },
    "kernelspec": {
      "name": "python3",
      "display_name": "Python 3"
    },
    "language_info": {
      "name": "python"
    }
  },
  "cells": [
    {
      "cell_type": "markdown",
      "source": [
        "Comentários: Tipos e Exemplos"
      ],
      "metadata": {
        "id": "zgxhsN1c3mHj"
      }
    },
    {
      "cell_type": "code",
      "execution_count": null,
      "metadata": {
        "id": "ydTWCiAewqcA"
      },
      "outputs": [],
      "source": [
        "# %%\n",
        "# Minhas variáveis\n",
        "salario = 3450.45   # variavel float\n",
        "despesas = 24562    # variavel int\n",
        "\n",
        "# abaixo um comentário com quebra de linha\n",
        "\"\"\"\n",
        "A ideia é calcular o\n",
        "quando vai sobrar no\n",
        "final do mes!\n",
        "\"\"\"\n",
        "print(salario - despesas)   # função imprime no terminal\n",
        "\n",
        "# print('Fim')\n",
        "print('Fim de verdade')  # comentário aqui tb vale!\n",
        "\n",
        "'''\n",
        "A ideia é calcular o\n",
        "quando vai sobrar no\n",
        "final do mes!\n",
        "'''\n",
        "print('Agora sim o fim de verdade')"
      ]
    },
    {
      "cell_type": "markdown",
      "source": [
        "Variáveis"
      ],
      "metadata": {
        "id": "e9AOwtxQ4YZb"
      }
    },
    {
      "cell_type": "code",
      "source": [
        "# %%\n",
        "a = 10\n",
        "b = 5.2\n",
        "\n",
        "print(a + b)\n",
        "\n",
        "a = 'Agora sou uma string!'   # mudança de tipo\n",
        "print(a)\n",
        "a   # saída: Agora sou uma string!\n",
        "b   # saída: 5.2\n",
        "\n",
        "# print(a + b)"
      ],
      "metadata": {
        "id": "yQz4M69n4aZE"
      },
      "execution_count": null,
      "outputs": []
    },
    {
      "cell_type": "markdown",
      "source": [
        "Tipos Básicos"
      ],
      "metadata": {
        "id": "CD210d407XuK"
      }
    },
    {
      "cell_type": "code",
      "source": [
        "# %%\n",
        "print(True) # bool\n",
        "print(False)\n",
        "print(1.2 + 1) # casting + operação\n",
        "print('Aqui eu falo na minha lingua!') # aspas simples\n",
        "print(\"Tb funciona.\") # aspas duplas\n",
        "print('Você é ' + 3 * 'muito ' + 'legal!') # concatenação e operação com strings\n",
        "# print(3 + '3') -> ambiguidade\n",
        "print([1, 2, 3]) # print(lista)\n",
        "print({'nome': 'Pedro', 'idade': 22}) # print(dict{})\n",
        "print(None)"
      ],
      "metadata": {
        "id": "El1IH8Gd7ace"
      },
      "execution_count": null,
      "outputs": []
    },
    {
      "cell_type": "markdown",
      "source": [
        "Operadores"
      ],
      "metadata": {
        "id": "FxeLV1fl8OIA"
      }
    },
    {
      "cell_type": "code",
      "source": [
        "\"\"\"\n",
        "Operadores unários\n",
        "\"\"\"\n",
        "# %%\n",
        "a = 3\n",
        "# a++ # incremento\n",
        "# a += 1 # a = a + 1\n",
        "\n",
        "# a-- # decremento\n",
        "# ++a # incrementa antes de ser utilizado\n",
        "\n",
        "-a # altera sinal\n",
        "+a\n",
        "\n",
        "# retorno boolean\n",
        "not 0\n",
        "not 1\n",
        "not -2\n",
        "not False\n",
        "not not True\n",
        "\n",
        "\"\"\"\n",
        "Operadores aritméticos\n",
        "\"\"\"\n",
        "\n",
        "# %%\n",
        "print(2 + 3)\n",
        "print(4 - 7)\n",
        "print(2 * 5.3)\n",
        "print(9.4 / 3) # retorna float\n",
        "print(9.4 // 3) # retorna inteiro\n",
        "print(2 ** 8) # potenciação\n",
        "print(10 % 3) # resto\n",
        "\n",
        "a = 12\n",
        "b = a\n",
        "print(a + b) # 24\n",
        "\n",
        "# %%\n",
        "# Minhas variáveis\n",
        "salario = 3450.45\n",
        "despesas = 2456.2\n",
        "\n",
        "# Resposta do desafio\n",
        "percentual_comprometido = despesas / salario * 100"
      ],
      "metadata": {
        "id": "a87iTUZO8P2h"
      },
      "execution_count": null,
      "outputs": []
    },
    {
      "cell_type": "markdown",
      "source": [
        "Estrutura: Tuplas"
      ],
      "metadata": {
        "id": "-_FXQBJx4zGN"
      }
    },
    {
      "cell_type": "code",
      "source": [
        "# %%\n",
        "\n",
        "\"\"\"\n",
        "Possibilita retornar múltiplos valores de funções\n",
        "\n",
        "\"\"\"\n",
        "\n",
        "tupla = tuple()\n",
        "tupla = ()\n",
        "type(tupla)\n",
        "dir(tupla)  # função dir() retorna as propriedades e métodos do objeto passado\n",
        "# help(tuple)\n",
        "type(tupla) # saída: tuple\n",
        "tupla = ('um')\n",
        "type(tupla)\n",
        "tupla = ('um',)\n",
        "type(tupla)\n",
        "tupla[0]\n",
        "# tupla[0] = 'novo'\n",
        "cores = ('verde', 'amarelo', 'azul', 'branco')\n",
        "cores[0]  # permite acesso por indexação\n",
        "cores[-1] # acessa o último\n",
        "cores[1:] # do index 1 para frente\n",
        "\n",
        "cores.index('amarelo') # retorna indice\n",
        "cores.count('Azul') # conta os elementos == 'Azul'\n",
        "len(cores) # retorna tamanho da tupla"
      ],
      "metadata": {
        "id": "PtAIQLMD402L"
      },
      "execution_count": null,
      "outputs": []
    },
    {
      "cell_type": "markdown",
      "source": [
        "Estrutura: Lista"
      ],
      "metadata": {
        "id": "bVanqNt451YH"
      }
    },
    {
      "cell_type": "code",
      "source": [
        "# %%\n",
        "lista = []  # semelhante ao array\n",
        "type(lista)\n",
        "dir(lista)\n",
        "# help(list)\n",
        "len(lista)\n",
        "lista.append(1) # adiciona no fim da lista\n",
        "lista.append(5)\n",
        "lista\n",
        "len(lista)\n",
        "\n",
        "nova_lista = [1, 5, 'Ana', 'Bia']\n",
        "nova_lista\n",
        "nova_lista.remove(5) # remove elemento\n",
        "nova_lista\n",
        "nova_lista.reverse() # inverte lista\n",
        "nova_lista\n",
        "\n",
        "# %%\n",
        "lista = [1, 5, 'Rebeca', 'Guilherme', 3.1415]\n",
        "lista.index('Guilherme') # retorna indice\n",
        "# lista.index(42)\n",
        "lista[2] # acesso por indexação\n",
        "1 in lista # operador 'in' retorna bool\n",
        "'Rebeca' in lista\n",
        "'Pedro' not in lista\n",
        "lista[0]\n",
        "lista[4]\n",
        "# lista[5]\n",
        "lista[-1]\n",
        "lista[-5]\n",
        "\n",
        "# %%\n",
        "lista = ['Ana', 'Lia', 'Rui', 'Paulo', 'Dani']\n",
        "lista[1:3] # do indice 1 ao 3\n",
        "lista[1:-1]\n",
        "lista[1:]\n",
        "lista[:-1] # até/exceto o último\n",
        "lista[:]\n",
        "lista[::2]\n",
        "lista[::-1]\n",
        "del lista[2]\n",
        "lista\n",
        "del lista[1:]\n",
        "lista"
      ],
      "metadata": {
        "id": "EyZrfwf757g1"
      },
      "execution_count": null,
      "outputs": []
    },
    {
      "cell_type": "markdown",
      "source": [
        "Tipo: String"
      ],
      "metadata": {
        "id": "bA0WqKG36nt_"
      }
    },
    {
      "cell_type": "code",
      "source": [
        "# %%\n",
        "dir(str)\n",
        "nome = 'Saulo Pedro'\n",
        "nome\n",
        "nome[0]\n",
        "# nome[0] = 'P'\n",
        "\n",
        "# 'marca d'água'\n",
        "\"Dias D'Avila\" == 'Dias D\\'Avila'\n",
        "\"Teste \\\" funciona!\" # inclui aspas\n",
        "texto = 'Texto entre apostrófos pode ter \"aspas\"'\n",
        "texto\n",
        "\n",
        "doc = \"\"\"Texto com múltiplas\n",
        "    ... linhas\"\"\"\n",
        "doc # imprime\n",
        "print('Texto com múltiplas\\n\\t... linhas')\n",
        "print(doc)\n",
        "\n",
        "doc2 = '''Também é possível\n",
        "... com 3 aspas simples'''\n",
        "doc2\n",
        "\n",
        "# %%\n",
        "nome = 'Ana Paula'\n",
        "nome[0] # acesso por indexação\n",
        "nome[6]\n",
        "nome[-3]\n",
        "nome[4:]\n",
        "nome[-5:]\n",
        "nome[:3]\n",
        "nome[2:5]\n",
        "\n",
        "numeros = '1234567890'\n",
        "numeros\n",
        "numeros[::]\n",
        "numeros[::2]\n",
        "numeros[1::2]\n",
        "numeros[::-1]\n",
        "numeros[::-2]\n",
        "\n",
        "nome[::-1]\n",
        "\n",
        "# %%\n",
        "frase = 'Python é uma linguagem excelente'\n",
        "'py' not in frase # verificação de substrings\n",
        "'ing' in frase\n",
        "len(frase) # retorna tamanho = qtd de caracteres\n",
        "frase.lower() # letras minusculas\n",
        "frase\n",
        "frase = frase.upper() # letras maiusculas\n",
        "frase\n",
        "\n",
        "frase.split() # separa string a cada ' '\n",
        "frase.split('E') # caractere de separação 'E'\n",
        "\n",
        "# dir(str)\n",
        "# help(str.center)\n",
        "\n",
        "# %%\n",
        "a = '123'\n",
        "b = ' de Oliveira 4'\n",
        "a + b # concatenação\n",
        "a.__add__(b)\n",
        "str.__add__(a, b)\n",
        "\n",
        "len(a)\n",
        "a.__len__()\n",
        "'1' in a\n",
        "a.__contains__('1')\n",
        "\n",
        "dir(str)"
      ],
      "metadata": {
        "id": "2KTfFrzq6pe1"
      },
      "execution_count": null,
      "outputs": []
    },
    {
      "cell_type": "markdown",
      "source": [
        "Estrutura: Dicionário"
      ],
      "metadata": {
        "id": "L0Ely1zk95yF"
      }
    },
    {
      "cell_type": "code",
      "source": [
        "# %%\n",
        "\n",
        "\"\"\"\n",
        "Dicionario = {'chave': 'valor'}\n",
        "\"\"\"\n",
        "\n",
        "pessoa = {'nome': 'Prof(a). Ana', 'idade': 38,\n",
        "          'cursos': ['Inglês', 'Português']}\n",
        "type(pessoa)\n",
        "dir(dict)\n",
        "len(pessoa)\n",
        "\n",
        "pessoa\n",
        "pessoa['nome'] # acesso por chave\n",
        "pessoa['idade']\n",
        "pessoa['cursos']\n",
        "pessoa['cursos'][1] # acessa lista relacionada a chave\n",
        "# pessoa['tags']\n",
        "pessoa.keys() # imprime lista de chaves\n",
        "pessoa.values() # imprime lista de valores\n",
        "pessoa.items() # imprime lista de chave-valor\n",
        "pessoa.get('idade') # metodo get(chave)\n",
        "pessoa.get('tags')\n",
        "pessoa.get('tags', [])\n",
        "\n",
        "# %%\n",
        "pessoa = {'nome': 'Prof. Alberto', 'idade': 43, 'cursos': ['React', 'Python']}\n",
        "pessoa['idade'] = 44\n",
        "pessoa['cursos'].append('Angular')\n",
        "pessoa\n",
        "pessoa.pop('idade') # retira do dicionario\n",
        "pessoa\n",
        "pessoa.update({'idade': 40, 'Sexo': 'M'}) # atualiza chave\n",
        "pessoa\n",
        "del pessoa['cursos']\n",
        "pessoa\n",
        "pessoa.clear() # limpa dicionario\n",
        "pessoa"
      ],
      "metadata": {
        "id": "ecx-KKW597_v"
      },
      "execution_count": null,
      "outputs": []
    },
    {
      "cell_type": "markdown",
      "source": [
        "Estrutura: Conjunto (Sets)"
      ],
      "metadata": {
        "id": "2UdDYhZ_-ruu"
      }
    },
    {
      "cell_type": "code",
      "source": [
        "# %%\n",
        "a = {1, 2, 3}\n",
        "type(a) # saída: set\n",
        "# a[0]\n",
        "a = set('coddddd3r')\n",
        "print(a)\n",
        "print('3' in a, 4 not in a) # True, True\n",
        "{1, 2, 3} == {3, 2, 1, 3} # não suporta repetições\n",
        "\n",
        "# operacoes\n",
        "c1 = {1, 2}\n",
        "c2 = {2, 3}\n",
        "c1.union(c2) # união de conjuntos\n",
        "c1.intersection(c2) # intersecção de conjuntos\n",
        "c1.update(c2) # adiciona itens do set c2\n",
        "c1\n",
        "c2 <= c1 # teste subconjunto\n",
        "c1 >= c2\n",
        "\n",
        "{1, 2, 3} - {2} # tira elemnto 2\n",
        "c1 - c2\n",
        "c1 -= {2}\n",
        "c1"
      ],
      "metadata": {
        "id": "yyKEt3h8-wzV"
      },
      "execution_count": null,
      "outputs": []
    },
    {
      "cell_type": "markdown",
      "source": [
        "Condições + laço"
      ],
      "metadata": {
        "id": "dQ67LFYkBeM-"
      }
    },
    {
      "cell_type": "code",
      "source": [
        "def faixa_etaria(idade): # cabeçalho de função\n",
        "    if 0 <= idade < 18: # se <condição>\n",
        "        return 'Menor de idade'\n",
        "    elif idade in range(18, 65): # se idade está entre 18 e 65\n",
        "        return 'Adulto'\n",
        "    elif idade in range(65, 100): # se idade está entre 65 e 100\n",
        "        return 'Melhor idade'\n",
        "    elif idade >= 100: # se idade for maior ou igual a 100\n",
        "        return 'Centenário'\n",
        "    else: # caso contrário\n",
        "        return 'idade inválida'\n",
        "\n",
        "\n",
        "if __name__ == '__main__': # main\n",
        "    for idade in (17, 0, 35, 87, 113, -2): # laço for\n",
        "        print(f'{idade}: {faixa_etaria(idade)}')"
      ],
      "metadata": {
        "id": "ucTGyAtXBgAO"
      },
      "execution_count": null,
      "outputs": []
    },
    {
      "cell_type": "markdown",
      "source": [
        "*for* em estruturas"
      ],
      "metadata": {
        "id": "1I9FmBPvC8qT"
      }
    },
    {
      "cell_type": "code",
      "source": [
        "produto = {'nome': 'Caneta Chic', 'preco': 14.99,\n",
        "           'importada': True, 'estoque': 793} # dicionario\n",
        "\n",
        "for chave in produto: # para cada item\n",
        "    print(chave)\n",
        "\n",
        "for valor in produto.values(): # para cada valor na lista de lavores\n",
        "    print(valor)\n",
        "\n",
        "for chave, valor in produto.items():\n",
        "    print(chave, '=', valor)\n",
        "\n",
        "print(chave, valor)\n",
        "\n",
        "\n",
        "\"\"\"\n",
        "Exemplo de 'break' e 'continue'\n",
        "\"\"\"\n",
        "\n",
        "for x in range(1, 11):\n",
        "    if x % 2 == 0:\n",
        "        continue # pula para proxima iteração, ignorando cógigo abaixo\n",
        "    print(x)\n",
        "\n",
        "for x in range(1, 11):\n",
        "    if x == 5:\n",
        "        break # também ignora código abaixo, mas sai do laço\n",
        "    print(x)\n",
        "\n",
        "print('Fim!')"
      ],
      "metadata": {
        "id": "AMouD6k1DA3O"
      },
      "execution_count": null,
      "outputs": []
    },
    {
      "cell_type": "markdown",
      "source": [
        "While"
      ],
      "metadata": {
        "id": "aLs2OPkJDl3N"
      }
    },
    {
      "cell_type": "code",
      "source": [
        "# while True:\n",
        "#     print('Vai demorar muitooooo')\n",
        "\n",
        "from random import randint # import de função da biblioteca random\n",
        "\n",
        "numero_informado = -1\n",
        "numero_secreto = randint(0, 9)\n",
        "\n",
        "# jogo de adivinha\n",
        "while numero_informado != numero_secreto: # enquanto o numero informado for diferente do numero secreto\n",
        "    numero_informado = int(input('Informe o número: '))\n",
        "\n",
        "print('Número secreto {} foi encontrado!'.format(numero_secreto)) # formatação de string com format() ou f'{}'"
      ],
      "metadata": {
        "id": "7XVB4rjqDpD1"
      },
      "execution_count": null,
      "outputs": []
    },
    {
      "cell_type": "markdown",
      "source": [
        "Funções"
      ],
      "metadata": {
        "id": "Ai2BNhh6FAH9"
      }
    },
    {
      "cell_type": "code",
      "source": [
        "def soma_2(a, b): # cabeçalho\n",
        "    return a + b # retorna soma dos parametros\n",
        "\n",
        "\n",
        "def soma_3(a, b, c):\n",
        "    return a + b + c\n",
        "\n",
        "\n",
        "def soma_n(*numeros): # aceita multiplos parametros como tupla\n",
        "    soma = 0\n",
        "    for n in numeros:\n",
        "        soma += n\n",
        "    return soma\n",
        "\n",
        "\n",
        "if __name__ == '__main__':\n",
        "    print(soma_2(2, 3))\n",
        "    print(soma_3(2, 4, 6))\n",
        "\n",
        "    # packing\n",
        "    print(soma_n(1))\n",
        "    print(soma_n(1, 1))\n",
        "    print(soma_n(1, 1, 1, 1, 1, 1, 1))\n",
        "\n",
        "    # unpacking\n",
        "    tupla_nums = (1, 2, 3)\n",
        "    print(soma_3(*tupla_nums))\n",
        "    lista_nums = [1, 2, 3]\n",
        "    print(soma_3(*lista_nums))"
      ],
      "metadata": {
        "id": "6v-IrOAxFBnN"
      },
      "execution_count": null,
      "outputs": []
    },
    {
      "cell_type": "markdown",
      "source": [
        "Map"
      ],
      "metadata": {
        "id": "IgbfnU5DFnqw"
      }
    },
    {
      "cell_type": "code",
      "source": [
        "#!/usr/local/bin/python3\n",
        "\n",
        "\"\"\"\n",
        "função map() aceita expressões lambda\n",
        "\n",
        "implementação de exemplo:\n",
        "\n",
        "def mapear(funcao, lista):\n",
        "    return (funcao(elemento) for elemento in lista)\n",
        "\n",
        "\n",
        "if __name__ == \"__main__\":\n",
        "    resultado = mapear(lambda x: x ** 2, [2, 3, 4])\n",
        "    print(tuple(resultado))\n",
        "\n",
        "\"\"\"\n",
        "\n",
        "lista_1 = [1, 2, 3]\n",
        "dobro = map(lambda x: x * 2, lista_1)\n",
        "print(list(dobro))\n",
        "\n",
        "lista_2 = [\n",
        "    {'nome': 'João', 'idade': 31},\n",
        "    {'nome': 'Maria', 'idade': 37},\n",
        "    {'nome': 'José', 'idade': 26}\n",
        "]\n",
        "so_nomes = map(lambda p: p['nome'], lista_2)\n",
        "print(list(so_nomes))\n",
        "\n",
        "so_idades = map(lambda p: p['idade'], lista_2)\n",
        "print(sum(so_idades))\n",
        "\n",
        "# Desafio: usando map retorne frases '<Nome> tem <idade> anos.'\n",
        "frases = map(lambda p: f'{p[\"nome\"]} tem {p[\"idade\"]} anos.', lista_2)\n",
        "print(list(frases))"
      ],
      "metadata": {
        "id": "1mw58wTdFpCf"
      },
      "execution_count": null,
      "outputs": []
    },
    {
      "cell_type": "markdown",
      "source": [
        "Programação Orientada a Objetos (POO)"
      ],
      "metadata": {
        "id": "f43x5bdjGXK-"
      }
    },
    {
      "cell_type": "code",
      "source": [
        "#!/usr/local/bin/python3\n",
        "from datetime import datetime, timedelta\n",
        "\n",
        "\n",
        "class TarefaNaoEncontrada(Exception): # classe de erro/excessão\n",
        "    pass\n",
        "\n",
        "\n",
        "class Projeto:\n",
        "    def __init__(self, nome): # construtor\n",
        "        self.nome = nome\n",
        "        self.tarefas = []\n",
        "\n",
        "    def __iter__(self): # métodos\n",
        "        return self.tarefas.__iter__()\n",
        "\n",
        "    def __iadd__(self, tarefa):\n",
        "        tarefa.dono = self\n",
        "        self._add_tarefa(tarefa)\n",
        "        return self\n",
        "\n",
        "    def _add_tarefa(self, tarefa, **kwargs):\n",
        "        self.tarefas.append(tarefa)\n",
        "\n",
        "    def _add_nova_tarefa(self, descricao, **kwargs):\n",
        "        self.tarefas.append(Tarefa(descricao, kwargs.get('vencimento', None)))\n",
        "\n",
        "    def add(self, tarefa, vencimento=None, **kwargs):\n",
        "        funcao_escolhida = self._add_tarefa if isinstance(tarefa, Tarefa) \\\n",
        "            else self._add_nova_tarefa\n",
        "        kwargs['vencimento'] = vencimento\n",
        "        funcao_escolhida(tarefa, **kwargs)\n",
        "\n",
        "    def pendentes(self):\n",
        "        return [tarefa for tarefa in self.tarefas if not tarefa.feito]\n",
        "\n",
        "    def procurar(self, descricao):\n",
        "        try:                                    # evita que o programa pare\n",
        "            # Possível IndexError\n",
        "            return [tarefa for tarefa in self.tarefas\n",
        "                    if tarefa.descricao == descricao][0]\n",
        "        except IndexError as e:\n",
        "            raise TarefaNaoEncontrada(str(e))\n",
        "\n",
        "    def __str__(self):                          # para impressão\n",
        "        return f'{self.nome} ({len(self.pendentes())} tarefa(s) pendente(s))'\n",
        "\n",
        "\n",
        "class Tarefa:\n",
        "    def __init__(self, descricao, vencimento=None):\n",
        "        self.descricao = descricao\n",
        "        self.feito = False\n",
        "        self.criacao = datetime.now()\n",
        "        self.vencimento = vencimento\n",
        "\n",
        "    def concluir(self):\n",
        "        self.feito = True\n",
        "\n",
        "    def __str__(self):\n",
        "        status = []\n",
        "        if self.feito:\n",
        "            status.append('(Concluída)')\n",
        "        elif self.vencimento:\n",
        "            if datetime.now() > self.vencimento:\n",
        "                status.append('(Vencida)')\n",
        "            else:\n",
        "                dias = (self.vencimento - datetime.now()).days\n",
        "                status.append(f'(Vence em {dias} dias)')\n",
        "\n",
        "        return f'{self.descricao} ' + ' '.join(status)\n",
        "\n",
        "\n",
        "class TarefaRecorrente(Tarefa): # herança\n",
        "    def __init__(self, descricao, vencimento, dias=7): # sobrecarga\n",
        "        super().__init__(descricao, vencimento)     # executa método pai\n",
        "        self.dias = dias\n",
        "        self.dono = None\n",
        "\n",
        "    def concluir(self):\n",
        "        super().concluir()\n",
        "        novo_vencimento = datetime.now() + timedelta(days=self.dias)\n",
        "        nova_tarefa = TarefaRecorrente(\n",
        "            self.descricao, novo_vencimento, self.dias)\n",
        "        if self.dono:\n",
        "            self.dono += nova_tarefa\n",
        "        return nova_tarefa\n",
        "\n",
        "\n",
        "def main(): # Abstração e Encapsulamento\n",
        "    casa = Projeto('Tarefas de Casa')\n",
        "    casa.add('Passar roupa', datetime.now())\n",
        "    casa.add('Lavar prato')\n",
        "    casa += TarefaRecorrente('Trocar lençóis', datetime.now(), 7)\n",
        "    casa.procurar('Trocar lençóis').concluir()\n",
        "    print(casa)\n",
        "\n",
        "    try:\n",
        "        casa.procurar('Lavar prato - ERRO').concluir()\n",
        "    except TarefaNaoEncontrada as e:\n",
        "        print(f'A causa foi \"{str(e)}\"!')\n",
        "    finally:\n",
        "        print('Sempre será executado!')\n",
        "\n",
        "    casa.procurar('Lavar prato').concluir()\n",
        "    for tarefa in casa:\n",
        "        print(f'- {tarefa}')\n",
        "    print(casa)\n",
        "\n",
        "    mercado = Projeto('Compras no mercado')\n",
        "    mercado.add('Frutas secas')\n",
        "    mercado.add('Carne')\n",
        "    mercado.add('Tomate', datetime.now() + timedelta(days=3, seconds=1))\n",
        "    print(mercado)\n",
        "\n",
        "    comprar_carne = mercado.procurar('Carne')\n",
        "    comprar_carne.concluir()\n",
        "    for tarefa in mercado:\n",
        "        print(f'- {tarefa}')\n",
        "    print(mercado)\n",
        "\n",
        "\n",
        "if __name__ == '__main__':\n",
        "    main()"
      ],
      "metadata": {
        "id": "qn7x_zPCGbZ4"
      },
      "execution_count": null,
      "outputs": []
    },
    {
      "cell_type": "markdown",
      "source": [
        "POO avançado"
      ],
      "metadata": {
        "id": "6jdHWSr7HZRj"
      }
    },
    {
      "cell_type": "code",
      "source": [
        "#!/usr/local/bin/python3\n",
        "from abc import ABCMeta, abstractproperty\n",
        "\n",
        "\n",
        "class Humano(metaclass=ABCMeta): # classe abstrata\n",
        "    # atributo de classe\n",
        "    especie = 'Homo Sapiens'\n",
        "\n",
        "    def __init__(self, nome): # construtor\n",
        "        self.nome = nome\n",
        "        self._idade = None\n",
        "\n",
        "    @abstractproperty\n",
        "    def inteligente(self):\n",
        "        pass\n",
        "\n",
        "    @property # permite acesso direto\n",
        "    def idade(self):\n",
        "        return self._idade\n",
        "\n",
        "    @idade.setter # set() do atributo idade\n",
        "    def idade(self, idade):\n",
        "        if idade < 0:\n",
        "            raise ValueError('Idade deve ser um número positivo!')\n",
        "        self._idade = idade\n",
        "\n",
        "    def das_cavernas(self):\n",
        "        self.especie = 'Homo Neanderthalensis'\n",
        "        return self\n",
        "\n",
        "    @staticmethod\n",
        "    def especies():\n",
        "        adjetivos = ('Habilis', 'Erectus', 'Neanderthalensis', 'Sapiens')\n",
        "        return ('Australopiteco',) + tuple(f'Homo {adj}' for adj in adjetivos)\n",
        "\n",
        "    @classmethod\n",
        "    def is_evoluido(cls):\n",
        "        return cls.especie == cls.especies()[-1] # compara com o ultimo elemento da tupla de retorno de especies()\n",
        "\n",
        "\n",
        "class Neanderthal(Humano): # herda classe abstrata\n",
        "    especie = Humano.especies()[-2]\n",
        "\n",
        "    @property\n",
        "    def inteligente(self): # implementação orbigatória\n",
        "        return False\n",
        "\n",
        "\n",
        "class HomoSapiens(Humano):\n",
        "    especie = Humano.especies()[-1]\n",
        "\n",
        "    @property\n",
        "    def inteligente(self):\n",
        "        return True\n",
        "\n",
        "\n",
        "if __name__ == '__main__':\n",
        "\n",
        "    # try:\n",
        "    #     anonimo = Humano('John Doe')\n",
        "    #     print(anonimo.inteligente)\n",
        "    # except TypeError:\n",
        "    #     print('classe abstrata')\n",
        "\n",
        "    jose = HomoSapiens('José')\n",
        "    print('{} da classe {}, inteligente: {}'\n",
        "          .format(jose.nome, jose.__class__.__name__, jose.inteligente))\n",
        "    grogn = Neanderthal('Grogn')\n",
        "    print('{} da classe {}, inteligente: {}'\n",
        "          .format(grogn.nome, grogn.__class__.__name__, grogn.inteligente))"
      ],
      "metadata": {
        "id": "-VxS71BJHbAL"
      },
      "execution_count": null,
      "outputs": []
    }
  ]
}
